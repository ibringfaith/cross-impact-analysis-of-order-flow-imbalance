{
 "cells": [
  {
   "cell_type": "markdown",
   "metadata": {},
   "source": [
    "# Visualizations\n",
    "Include clear and informative table, heatmap, scatter plot, line graph for OFI metrics for individual stocks and cross-impact relationships between stocks."
   ]
  },
  {
   "cell_type": "code",
   "execution_count": null,
   "metadata": {
    "vscode": {
     "languageId": "plaintext"
    }
   },
   "outputs": [],
   "source": [
    "import pandas as pd\n",
    "import seaborn as sns\n",
    "import matplotlib.pyplot as plt"
   ]
  },
  {
   "cell_type": "markdown",
   "metadata": {},
   "source": [
    "### Data"
   ]
  },
  {
   "cell_type": "code",
   "execution_count": null,
   "metadata": {
    "vscode": {
     "languageId": "plaintext"
    }
   },
   "outputs": [],
   "source": [
    "cross_impact_results = pd.read_csv(\"results/cross_impact_results.csv\", index_col=0)\n",
    "pca_ofi_data = pd.concat(\n",
    "    {stock: pd.read_csv(f\"results/{stock}_pca_ofi.csv\") for stock in stocks}, axis=1\n",
    ")\n",
    "pca_ofi_data.head()"
   ]
  },
  {
   "cell_type": "markdown",
   "metadata": {},
   "source": [
    "### Cross-impact relationships between stocks"
   ]
  },
  {
   "cell_type": "code",
   "execution_count": null,
   "metadata": {
    "vscode": {
     "languageId": "plaintext"
    }
   },
   "outputs": [],
   "source": [
    "plt.figure(figsize=(10, 8))\n",
    "sns.heatmap(cross_impact_results, annot=True, fmt=\".2f\", cmap=\"coolwarm\")\n",
    "plt.title(\"Cross-Impact R-Squared Values\")\n",
    "plt.savefig(\"results/cross_impact_heatmap.png\")\n",
    "plt.show()"
   ]
  },
  {
   "cell_type": "code",
   "execution_count": null,
   "metadata": {
    "vscode": {
     "languageId": "plaintext"
    }
   },
   "outputs": [],
   "source": [
    "plt.figure(figsize=(8, 6))\n",
    "for stock in stocks:\n",
    "    plt.scatter(\n",
    "        pca_ofi_data[stock],\n",
    "        pca_ofi_data[\"AAPL\"],\n",
    "        label=f\"{stock} Impact on AAPL\",\n",
    "        alpha=0.6,\n",
    "    )\n",
    "plt.title(\"Cross-Impact Scatter Plot\")\n",
    "plt.xlabel(\"OFI Metrics (Other Stocks)\")\n",
    "plt.ylabel(\"AAPL Price Changes\")\n",
    "plt.legend()\n",
    "plt.savefig(\"results/cross_impact_scatter.png\")\n",
    "plt.show()"
   ]
  },
  {
   "cell_type": "markdown",
   "metadata": {},
   "source": [
    "### OFI Metrics for Individual Stocks"
   ]
  },
  {
   "cell_type": "code",
   "execution_count": null,
   "metadata": {
    "vscode": {
     "languageId": "plaintext"
    }
   },
   "outputs": [],
   "source": [
    "for stock in stocks:\n",
    "    pca_ofi_data[stock].plot(label=f\"{stock} PCA-OFI\")\n",
    "plt.legend()\n",
    "plt.title(\"OFI Trends Across Stocks\")\n",
    "plt.savefig(\"results/ofi_trends.png\")\n",
    "plt.show()"
   ]
  }
 ],
 "metadata": {
  "language_info": {
   "name": "python"
  }
 },
 "nbformat": 4,
 "nbformat_minor": 2
}
