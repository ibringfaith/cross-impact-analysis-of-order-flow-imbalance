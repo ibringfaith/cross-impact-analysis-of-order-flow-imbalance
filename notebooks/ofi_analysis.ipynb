{
 "cells": [
  {
   "cell_type": "markdown",
   "metadata": {},
   "source": [
    "# Analysis\n",
    "Derive multi-level OFI metrics (up to 5 levels) for each stock in the dataset. Integrate these multi-level OFIs into a single metric using Principal Component Analysis (PCA) or another dimensionality reduction method. Examine the contemporaneous cross-impact of OFI on short-term price changes across stocks. Evaluate the predictive power of lagged cross-asset OFI on future price changes (e.g., 1-minute and 5-minute horizons). Use regression models to assess the explanatory power of contemporaneous OFI and predictive power of lagged OFI. Compare self-impact (within the same stock) vs. cross-impact (between stocks) in the models."
   ]
  },
  {
   "cell_type": "code",
   "execution_count": 1,
   "metadata": {},
   "outputs": [],
   "source": [
    "import pandas as pd\n",
    "import numpy as np\n",
    "from sklearn.decomposition import PCA\n",
    "from sklearn.linear_model import LinearRegression\n",
    "import matplotlib.pyplot as plt\n",
    "\n",
    "def compute_ofi(df, levels=5):\n",
    "    ofi = {}\n",
    "    for level in range(1, levels + 1):\n",
    "        bid_col, ask_col = f\"bid_vol_{level}\", f\"ask_vol_{level}\"\n",
    "        ofi[f\"OFI_{level}\"] = df[bid_col].diff() - df[ask_col].diff()\n",
    "    return pd.DataFrame(ofi)\n",
    "\n",
    "def cross_impact(ofi_data, price_changes):\n",
    "    results = {}\n",
    "    for target_stock in price_changes.columns:\n",
    "        X = pd.concat(ofi_data.values(), axis=1).dropna().values\n",
    "        y = price_changes[target_stock].dropna().values\n",
    "        model = LinearRegression().fit(X, y)\n",
    "        results[target_stock] = {\n",
    "            \"coefficients\": model.coef_,\n",
    "            \"r_squared\": model.score(X, y),\n",
    "        }\n",
    "    return results"
   ]
  },
  {
   "cell_type": "code",
   "execution_count": null,
   "metadata": {},
   "outputs": [],
   "source": [
    "stocks = [\"AAPL\", \"AMGN\", \"TSLA\", \"JPM\", \"XOM\"]\n",
    "path = \"/Users/ibringfaith/Documents/GitHub/cross-impact-analysis-of-order-flow-imbalance/data\"\n",
    "data = {stock: pd.read_csv(f\"{path}/{stock}.csv\") for stock in stocks}"
   ]
  },
  {
   "cell_type": "markdown",
   "metadata": {},
   "source": [
    "## Compute OFI Metrics"
   ]
  },
  {
   "cell_type": "code",
   "execution_count": null,
   "metadata": {},
   "outputs": [],
   "source": [
    "ofi_data = {stock: compute_ofi(data[stock]) for stock in stocks}\n",
    "for stock_name, multi_level_ofi_metrics in ofi_data.items():\n",
    "    print(f\"Multi-level OFI metrics (up to 5 levels) for {stock_name}\")\n",
    "    multi_level_ofi_metrics.head()"
   ]
  },
  {
   "cell_type": "code",
   "execution_count": null,
   "metadata": {},
   "outputs": [],
   "source": [
    "pca = PCA(n_components=1)\n",
    "pca_ofi_data = {\n",
    "    stock: pd.Series(pca.fit_transform(ofi.dropna()).flatten(), name=\"PCA_OFI\")\n",
    "    for stock, ofi in ofi_data.items()\n",
    "}"
   ]
  },
  {
   "cell_type": "markdown",
   "metadata": {},
   "source": [
    "## Analyze cross-impact"
   ]
  },
  {
   "cell_type": "code",
   "execution_count": null,
   "metadata": {},
   "outputs": [],
   "source": [
    "price_changes = pd.DataFrame({stock: data[stock][\"price\"].pct_change() for stock in stocks})\n",
    "cross_impact_results = cross_impact(pca_ofi_data, price_changes)"
   ]
  },
  {
   "cell_type": "code",
   "execution_count": null,
   "metadata": {},
   "outputs": [],
   "source": [
    "pd.DataFrame(cross_impact_results).to_csv(\"results/cross_impact_results.csv\")"
   ]
  }
 ],
 "metadata": {
  "kernelspec": {
   "display_name": "Python 3",
   "language": "python",
   "name": "python3"
  },
  "language_info": {
   "codemirror_mode": {
    "name": "ipython",
    "version": 3
   },
   "file_extension": ".py",
   "mimetype": "text/x-python",
   "name": "python",
   "nbconvert_exporter": "python",
   "pygments_lexer": "ipython3",
   "version": "3.10.14"
  }
 },
 "nbformat": 4,
 "nbformat_minor": 2
}
