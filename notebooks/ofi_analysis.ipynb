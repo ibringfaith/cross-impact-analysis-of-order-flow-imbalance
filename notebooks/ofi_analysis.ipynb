{
 "cells": [
  {
   "cell_type": "markdown",
   "metadata": {},
   "source": [
    "# Analysis\n",
    "Derive multi-level OFI metrics (up to 5 levels) for each stock in the dataset. Integrate these multi-level OFIs into a single metric using Principal Component Analysis (PCA) or another dimensionality reduction method. Examine the contemporaneous cross-impact of OFI on short-term price changes across stocks. Evaluate the predictive power of lagged cross-asset OFI on future price changes (e.g., 1-minute and 5-minute horizons). Use regression models to assess the explanatory power of contemporaneous OFI and predictive power of lagged OFI. Compare self-impact (within the same stock) vs. cross-impact (between stocks) in the models."
   ]
  },
  {
   "cell_type": "code",
   "execution_count": 30,
   "metadata": {},
   "outputs": [],
   "source": [
    "import pandas as pd\n",
    "import numpy as np\n",
    "from sklearn.decomposition import PCA\n",
    "from sklearn.linear_model import LinearRegression\n",
    "import matplotlib.pyplot as plt\n",
    "from typing import Dict, Tuple\n",
    "\n",
    "def compute_order_flow(book_updates: pd.DataFrame, levels: int) -> Tuple[Dict[int, pd.Series], Dict[int, pd.Series]]:\n",
    "    \"\"\"\n",
    "    Compute bid and ask order flows at each level of the order book.\n",
    "    \n",
    "    Parameters\n",
    "    ----------\n",
    "        book_updates: pd.DataFrame\n",
    "            DataFrame containing order book updates with columns for bid and ask prices/sizes.\n",
    "        levels: int\n",
    "            Number of levels in the order book to consider.\n",
    "\n",
    "    Returns\n",
    "    ----------\n",
    "        Tuple[Dict[int, pd.Series], Dict[int, pd.Series]]\n",
    "            Dictionaries containing bid and ask order flows for each level.\n",
    "    \"\"\"\n",
    "    of_bid = {}\n",
    "    of_ask = {}\n",
    "    for level in range(1, levels + 1):\n",
    "        of_bid[level] = book_updates[f'bid_sz_{level:02d}'].diff().fillna(0)\n",
    "        of_ask[level] = -book_updates[f'ask_sz_{level:02d}'].diff().fillna(0)\n",
    "\n",
    "        of_bid[level][book_updates[f'bid_px_{level:02d}'].diff() < 0] = 0\n",
    "        of_ask[level][book_updates[f'ask_px_{level:02d}'].diff() > 0] = 0\n",
    "    return of_bid, of_ask\n",
    "\n",
    "def compute_best_level_ofi(of_bid, of_ask):\n",
    "    best_ofi = of_bid[1] - of_ask[1]\n",
    "    return best_ofi.cumsum()\n",
    "\n",
    "def compute_deeper_level_ofi(of_bid: Dict[int, pd.Series], of_ask: Dict[int, pd.Series], levels: int) -> Dict[int, pd.Series]:\n",
    "    \"\"\"\n",
    "    Compute the deeper-level Order Flow Imbalance (OFI) for each level.\n",
    "    \n",
    "    Parameters\n",
    "    ----------\n",
    "        of_bid: (Dict[int, pd.Series])\n",
    "            Bid order flows for each level.\n",
    "        of_ask: (Dict[int, pd.Series])\n",
    "            Ask order flows for each level.\n",
    "        levels: int\n",
    "            Number of levels in the order book to consider.\n",
    "\n",
    "    Returns\n",
    "    ----------\n",
    "        Dict[int, pd.Series]\n",
    "            Cumulative deeper-level OFI for each level over time.\n",
    "    \"\"\"\n",
    "    deeper_ofi = {}\n",
    "    for level in range(1, levels + 1):\n",
    "        deeper_ofi[level] = (of_bid[level] - of_ask[level]).cumsum()\n",
    "    return deeper_ofi\n",
    "\n",
    "def compute_multi_level_ofi(deeper_ofi: Dict[int, pd.Series], levels: int) -> np.ndarray:\n",
    "    \"\"\"\n",
    "    Compute the multi-level OFI vector by stacking deeper-level OFIs for all levels.\n",
    "    \n",
    "    Parameters\n",
    "    ----------\n",
    "        deeper_ofi: Dict[int, pd.Series]\n",
    "            Cumulative deeper-level OFI for each level.\n",
    "        levels: int\n",
    "            Number of levels in the order book to consider.\n",
    "\n",
    "    Returns\n",
    "    ----------\n",
    "        np.ndarray: Multi-level OFI vector (time series) with shape (n_samples, levels).\n",
    "    \"\"\"\n",
    "    multi_level_ofi = np.vstack([deeper_ofi[level] for level in range(1, levels + 1)]).T\n",
    "    return multi_level_ofi\n",
    "\n",
    "def compute_average_depth(book_updates: pd.DataFrame, levels: int) -> np.ndarray:\n",
    "    \"\"\"\n",
    "    Compute the average order book depth used to scale the OFI.\n",
    "    \n",
    "    Parameters\n",
    "    ----------\n",
    "        book_updates: pd.DataFrame\n",
    "            DataFrame containing order book updates with size columns for bid and ask sides.\n",
    "        levels: int\n",
    "            Number of levels in the order book to consider.\n",
    "\n",
    "    Returns\n",
    "    ----------\n",
    "        np.ndarray\n",
    "            Average depth for scaling OFI at each level.\n",
    "    \"\"\"\n",
    "    avg_depths = []\n",
    "    for level in range(1, levels + 1):\n",
    "        avg_depth = book_updates[[f'bid_sz_{level:02d}', f'ask_sz_{level:02d}']].mean(axis=1).mean()\n",
    "        avg_depths.append(avg_depth)\n",
    "    return np.array(avg_depths)\n",
    "\n",
    "\n",
    "def scale_ofi(multi_level_ofi: np.ndarray, avg_depths: np.ndarray) -> np.ndarray:\n",
    "    \"\"\"\n",
    "    Scale the multi-level OFI by the average order book depth.\n",
    "    \n",
    "    Parameters\n",
    "    ----------\n",
    "        multi_level_ofi (np.ndarray): Multi-level OFI vector (time series).\n",
    "        avg_depths (np.ndarray): Average depth for scaling.\n",
    "\n",
    "    Returns\n",
    "    ----------\n",
    "        np.ndarray: Scaled multi-level OFI vector.\n",
    "    \"\"\"\n",
    "    scaled_ofi = multi_level_ofi / avg_depths\n",
    "    return scaled_ofi\n",
    "\n",
    "\n",
    "def calculate_ofi(book_updates: pd.DataFrame, levels: int = 5) -> pd.DataFrame:\n",
    "    \"\"\"\n",
    "    Calculate the multi-level Order Flow Imbalance (OFI).\n",
    "    \n",
    "    Parameters\n",
    "    ----------\n",
    "        book_updates: pd.DataFrame\n",
    "            DataFrame containing order book updates with bid/ask sizes and prices.\n",
    "        levels: int, optional\n",
    "            Number of levels in the order book to consider. Default is 5.\n",
    "\n",
    "    Returns\n",
    "    ----------\n",
    "        pd.DataFrame\n",
    "            Scaled multi-level OFI vector.\n",
    "    \"\"\"\n",
    "    of_bid, of_ask = compute_order_flow(book_updates, levels)\n",
    "    deeper_ofi = compute_deeper_level_ofi(of_bid, of_ask, levels)\n",
    "    multi_level_ofi = compute_multi_level_ofi(deeper_ofi, levels)\n",
    "    avg_depths = compute_average_depth(book_updates, levels)\n",
    "    scaled_ofi = scale_ofi(multi_level_ofi, avg_depths)\n",
    "    return pd.DataFrame(scaled_ofi)\n",
    "\n",
    "def cross_impact(ofi_data: pd.DataFrame, price_changes: pd.DataFrame) -> pd.DataFrame:\n",
    "    \"\"\"\n",
    "    Perform contemporaneous cross-impact analysis using regression.\n",
    "    \n",
    "    Parameters\n",
    "    ----------\n",
    "        ofi_df: pd.DataFrame\n",
    "            OFI data.\n",
    "        price_change_df: pd.DataFrame\n",
    "            Price change data.\n",
    "    \n",
    "    Returns\n",
    "    ----------\n",
    "        pd.DataFrame\n",
    "            Coefficients of self-impact and cross-impact for each stock.\n",
    "    \"\"\"\n",
    "    results = {}\n",
    "    stocks = price_changes.columns\n",
    "\n",
    "    for target_stock in stocks:\n",
    "        X = ofi_data.values\n",
    "        y = price_changes[target_stock].values\n",
    "        \n",
    "        model = LinearRegression().fit(X, y)\n",
    "\n",
    "        results[target_stock] = {\n",
    "            \"coefficients\": model.coef_,\n",
    "            \"r_squared\": model.score(X, y),\n",
    "        }\n",
    "    return results"
   ]
  },
  {
   "cell_type": "code",
   "execution_count": 2,
   "metadata": {},
   "outputs": [],
   "source": [
    "stocks = [\"AAPL\", \"AMGN\", \"TSLA\", \"JPM\", \"XOM\"]\n",
    "path = \"/Users/ibringfaith/Documents/GitHub/cross-impact-analysis-of-order-flow-imbalance/data\"\n",
    "data = {stock: pd.read_csv(f\"{path}/{stock}.csv\") for stock in stocks}"
   ]
  },
  {
   "cell_type": "markdown",
   "metadata": {},
   "source": [
    "## Compute OFI Metrics"
   ]
  },
  {
   "cell_type": "code",
   "execution_count": 12,
   "metadata": {},
   "outputs": [
    {
     "name": "stdout",
     "output_type": "stream",
     "text": [
      "Multi-level OFI metrics (up to 5 levels) for AAPL\n",
      "          0        1    2    3    4\n",
      "0  0.000000  0.00000  0.0  0.0  0.0\n",
      "1  0.000000  0.00000  0.0  0.0  0.0\n",
      "2  0.280681  0.00000  0.0  0.0  0.0\n",
      "3  1.538134  0.00000  0.0  0.0  0.0\n",
      "4  0.561363  1.18149  0.0  0.0  0.0\n",
      "Multi-level OFI metrics (up to 5 levels) for AMGN\n",
      "     0    1    2    3    4\n",
      "0  0.0  0.0  0.0  0.0  0.0\n",
      "1  0.0  0.0  0.0  0.0  0.0\n",
      "2  0.0  0.0  0.0  0.0  0.0\n",
      "3  0.0  0.0  0.0  0.0  0.0\n",
      "4  0.0  0.0  0.0  0.0  0.0\n",
      "Multi-level OFI metrics (up to 5 levels) for TSLA\n",
      "          0         1    2    3    4\n",
      "0  0.000000  0.000000  0.0  0.0  0.0\n",
      "1  0.112397  0.000000  0.0  0.0  0.0\n",
      "2  0.112397  0.000000  0.0  0.0  0.0\n",
      "3  1.802848  0.117855  0.0  0.0  0.0\n",
      "4  1.802848  0.117855  0.0  0.0  0.0\n",
      "Multi-level OFI metrics (up to 5 levels) for JPM\n",
      "          0    1    2    3    4\n",
      "0  0.000000  0.0  0.0  0.0  0.0\n",
      "1  0.000000  0.0  0.0  0.0  0.0\n",
      "2  4.385618  0.0  0.0  0.0  0.0\n",
      "3  8.771235  0.0  0.0  0.0  0.0\n",
      "4  8.771235  0.0  0.0  0.0  0.0\n",
      "Multi-level OFI metrics (up to 5 levels) for XOM\n",
      "     0    1    2    3    4\n",
      "0  0.0  0.0  0.0  0.0  0.0\n",
      "1  0.0  0.0  0.0  0.0  0.0\n",
      "2  0.0  0.0  0.0  0.0  0.0\n",
      "3  0.0  0.0  0.0  0.0  0.0\n",
      "4  0.0  0.0  0.0  0.0  0.0\n"
     ]
    }
   ],
   "source": [
    "ofi_data = {stock: calculate_ofi(data[stock]) for stock in stocks}\n",
    "for stock_name, multi_level_ofi_metrics in ofi_data.items():\n",
    "    print(f\"Multi-level OFI metrics (up to 5 levels) for {stock_name}\")\n",
    "    print(multi_level_ofi_metrics.head())"
   ]
  },
  {
   "cell_type": "code",
   "execution_count": 27,
   "metadata": {},
   "outputs": [
    {
     "name": "stdout",
     "output_type": "stream",
     "text": [
      "Integrated Multi-level OFI metrics:\n",
      "           AAPL         AMGN           TSLA           JPM           XOM\n",
      "0  35194.959061  1943.094278  268365.787213  36005.345080  75106.724547\n",
      "1  35194.959061  1943.094278  268365.840499  36005.345080  75106.724547\n",
      "2  35195.164280  1943.094278  268365.840499  36008.801500  75106.724547\n",
      "3  35196.083660  1943.094278  268366.690020  36012.257921  75106.724547\n",
      "4  35196.028979  1943.094278  268366.690020  36012.257921  75106.724547\n"
     ]
    }
   ],
   "source": [
    "pca = PCA(n_components=1)\n",
    "pca_ofi_data = {\n",
    "    stock: pd.Series(pca.fit_transform(ofi.dropna()).flatten(), name=\"PCA_OFI\")\n",
    "    for stock, ofi in ofi_data.items()\n",
    "}\n",
    "\n",
    "pca_ofi_df = pd.DataFrame(pca_ofi_data).fillna(0)\n",
    "print(\"Integrated Multi-level OFI metrics:\")\n",
    "print(pca_ofi_df.head())"
   ]
  },
  {
   "cell_type": "markdown",
   "metadata": {},
   "source": [
    "## Analyze cross-impact"
   ]
  },
  {
   "cell_type": "code",
   "execution_count": 16,
   "metadata": {},
   "outputs": [
    {
     "name": "stdout",
     "output_type": "stream",
     "text": [
      "       AAPL      AMGN      TSLA       JPM       XOM\n",
      "0  0.000000  0.000000  0.000000  0.000000  0.000000\n",
      "1 -0.025659  0.015525  2.871124  0.026338  0.013458\n",
      "2 -0.007864 -0.013706 -0.745000 -0.019778 -0.013279\n",
      "3  0.022074  0.012293  0.026307  0.019861  0.013458\n",
      "4 -0.000451 -0.000528 -0.012936 -0.018014 -0.013109\n"
     ]
    }
   ],
   "source": [
    "price_changes = pd.DataFrame({stock: data[stock][\"price\"].pct_change() for stock in stocks})\n",
    "price_changes_df = price_changes.fillna(0)\n",
    "print(price_changes_df.head())"
   ]
  },
  {
   "cell_type": "code",
   "execution_count": 28,
   "metadata": {},
   "outputs": [
    {
     "name": "stdout",
     "output_type": "stream",
     "text": [
      "Shape of integrated multi-level metrics dataframe: (17127528, 5)\n",
      "Shape of price changes dataframe: (17127528, 5)\n"
     ]
    }
   ],
   "source": [
    "print(\"Shape of integrated multi-level metrics dataframe:\", pca_ofi_df.shape)\n",
    "print(\"Shape of price changes dataframe:\", price_changes_df.shape)"
   ]
  },
  {
   "cell_type": "code",
   "execution_count": null,
   "metadata": {},
   "outputs": [
    {
     "ename": "AttributeError",
     "evalue": "'dict' object has no attribute 'head'",
     "output_type": "error",
     "traceback": [
      "\u001b[0;31m---------------------------------------------------------------------------\u001b[0m",
      "\u001b[0;31mAttributeError\u001b[0m                            Traceback (most recent call last)",
      "Cell \u001b[0;32mIn[31], line 2\u001b[0m\n\u001b[1;32m      1\u001b[0m cross_impact_results \u001b[38;5;241m=\u001b[39m cross_impact(pca_ofi_df, price_changes_df)\n\u001b[0;32m----> 2\u001b[0m \u001b[38;5;28mprint\u001b[39m(\u001b[43mcross_impact_results\u001b[49m\u001b[38;5;241;43m.\u001b[39;49m\u001b[43mhead\u001b[49m())\n",
      "\u001b[0;31mAttributeError\u001b[0m: 'dict' object has no attribute 'head'"
     ]
    }
   ],
   "source": [
    "cross_impact_results = cross_impact(pca_ofi_df, price_changes_df)"
   ]
  },
  {
   "cell_type": "code",
   "execution_count": 32,
   "metadata": {},
   "outputs": [
    {
     "name": "stdout",
     "output_type": "stream",
     "text": [
      "AAPL {'coefficients': array([-6.36184872e-11,  1.25348004e-09,  1.12654017e-11,  2.67675069e-11,\n",
      "        2.05618659e-12]), 'r_squared': 3.945216380252248e-07}\n",
      "AMGN {'coefficients': array([1.16890038e-05, 1.01332437e-02, 1.56367510e-06, 2.20744507e-04,\n",
      "       2.41595386e-05]), 'r_squared': 8.950020599418629e-06}\n",
      "TSLA {'coefficients': array([ 5.34493421e-11,  6.00914213e-09, -5.77899570e-12,  1.16689836e-10,\n",
      "        5.08944685e-12]), 'r_squared': 2.8517305961095474e-07}\n",
      "JPM {'coefficients': array([ 2.91484176e-09, -2.21898660e-06,  5.31724221e-10,  3.17569120e-08,\n",
      "        7.06829579e-09]), 'r_squared': 4.879191349282941e-06}\n",
      "XOM {'coefficients': array([ 7.55956190e-09, -3.78767773e-08,  1.24793925e-09,  1.12403388e-08,\n",
      "       -4.55936549e-10]), 'r_squared': 2.5584491436525525e-07}\n"
     ]
    }
   ],
   "source": [
    "for coefficients, r_squared in cross_impact_results.items():\n",
    "    print(coefficients, r_squared)"
   ]
  },
  {
   "cell_type": "code",
   "execution_count": 33,
   "metadata": {},
   "outputs": [
    {
     "name": "stdout",
     "output_type": "stream",
     "text": [
      "Target Stock             AAPL      AMGN          TSLA           JPM  \\\n",
      "Impacting Stock                                                       \n",
      "AAPL            -6.361849e-11  0.000012  5.344934e-11  2.914842e-09   \n",
      "AMGN             1.253480e-09  0.010133  6.009142e-09 -2.218987e-06   \n",
      "TSLA             1.126540e-11  0.000002 -5.778996e-12  5.317242e-10   \n",
      "JPM              2.676751e-11  0.000221  1.166898e-10  3.175691e-08   \n",
      "XOM              2.056187e-12  0.000024  5.089447e-12  7.068296e-09   \n",
      "\n",
      "Target Stock              XOM  \n",
      "Impacting Stock                \n",
      "AAPL             7.559562e-09  \n",
      "AMGN            -3.787678e-08  \n",
      "TSLA             1.247939e-09  \n",
      "JPM              1.124034e-08  \n",
      "XOM             -4.559365e-10  \n"
     ]
    }
   ],
   "source": [
    "coeff_matrix = pd.DataFrame(\n",
    "        {stock: res[\"coefficients\"] for stock, res in cross_impact_results.items()},\n",
    "        index=stocks\n",
    "    )\n",
    "\n",
    "coeff_matrix.index.name = \"Impacting Stock\"\n",
    "coeff_matrix.columns.name = \"Target Stock\"\n",
    "\n",
    "print(coeff_matrix.head())"
   ]
  },
  {
   "cell_type": "code",
   "execution_count": 37,
   "metadata": {},
   "outputs": [],
   "source": [
    "results_path = \"/Users/ibringfaith/Documents/GitHub/cross-impact-analysis-of-order-flow-imbalance/results\"\n",
    "pd.DataFrame(cross_impact_results).to_csv(f\"{results_path}/cross_impact_results.csv\")"
   ]
  }
 ],
 "metadata": {
  "kernelspec": {
   "display_name": "Python 3",
   "language": "python",
   "name": "python3"
  },
  "language_info": {
   "codemirror_mode": {
    "name": "ipython",
    "version": 3
   },
   "file_extension": ".py",
   "mimetype": "text/x-python",
   "name": "python",
   "nbconvert_exporter": "python",
   "pygments_lexer": "ipython3",
   "version": "3.10.14"
  }
 },
 "nbformat": 4,
 "nbformat_minor": 2
}
